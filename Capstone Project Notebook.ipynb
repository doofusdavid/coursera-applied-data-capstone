{
 "cells": [
  {
   "cell_type": "markdown",
   "metadata": {},
   "source": [
    "# David Edwards\n",
    "## Coursera Applied Data Science Capstone"
   ]
  },
  {
   "cell_type": "markdown",
   "metadata": {},
   "source": [
    "## Introduction/Business Problem"
   ]
  },
  {
   "cell_type": "markdown",
   "metadata": {},
   "source": [
    "Cheba Hut (https://chebahut.com/) is a Cannabis-themed sandwich shop based in my hometown of Fort Collins, Colorado.  They are a franchise with approximately 36 locations nationwide.  They are always looking to expand their market, and have a good sense of what makes their franchises work.  The primary indicators of success for them are:\n",
    "1. Proximity to College/University\n",
    "2. Lack of alternate restaurant locations\n",
    "3. Local cannabis laws\n",
    "\n",
    "I propose performing a \"Neighborhood\" search that, instead of concentrating on neighborhoods within a city, will concentrate on neighborhoods around colleges/universities in the US.  I propose using the following criteria for determining similarity between Universities:\n",
    "1. Food (or sandwich shops) per enrolled student\n",
    "2. laxity of cannibas laws\n",
    "3. existing Cheba Hut Locations"
   ]
  },
  {
   "cell_type": "markdown",
   "metadata": {},
   "source": [
    "### Data Sources"
   ]
  },
  {
   "cell_type": "markdown",
   "metadata": {},
   "source": [
    "#### Marijuana Laws By State\n",
    "https://data.world/sya/marijuana-laws-by-state\n",
    "#### College and University Campuses\n",
    "https://hifld-geoplatform.opendata.arcgis.com/datasets/colleges-and-universities-campuses\n",
    "#### Cheba Hut Locations\n",
    "https://chebahut.com/locations"
   ]
  },
  {
   "cell_type": "code",
   "execution_count": null,
   "metadata": {},
   "outputs": [],
   "source": []
  }
 ],
 "metadata": {
  "kernelspec": {
   "display_name": "Python 3",
   "language": "python",
   "name": "python3"
  },
  "language_info": {
   "codemirror_mode": {
    "name": "ipython",
    "version": 3
   },
   "file_extension": ".py",
   "mimetype": "text/x-python",
   "name": "python",
   "nbconvert_exporter": "python",
   "pygments_lexer": "ipython3",
   "version": "3.7.4"
  }
 },
 "nbformat": 4,
 "nbformat_minor": 4
}
